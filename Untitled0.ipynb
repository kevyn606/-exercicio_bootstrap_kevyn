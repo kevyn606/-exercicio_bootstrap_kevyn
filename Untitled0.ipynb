{
  "nbformat": 4,
  "nbformat_minor": 0,
  "metadata": {
    "colab": {
      "provenance": [],
      "authorship_tag": "ABX9TyM1Oy0mfSeyham2T2/FGfgO",
      "include_colab_link": true
    },
    "kernelspec": {
      "name": "python3",
      "display_name": "Python 3"
    },
    "language_info": {
      "name": "python"
    }
  },
  "cells": [
    {
      "cell_type": "markdown",
      "metadata": {
        "id": "view-in-github",
        "colab_type": "text"
      },
      "source": [
        "<a href=\"https://colab.research.google.com/github/kevyn606/-exercicio_bootstrap_kevyn/blob/main/Untitled0.ipynb\" target=\"_parent\"><img src=\"https://colab.research.google.com/assets/colab-badge.svg\" alt=\"Open In Colab\"/></a>"
      ]
    },
    {
      "cell_type": "code",
      "execution_count": 1,
      "metadata": {
        "colab": {
          "base_uri": "https://localhost:8080/"
        },
        "id": "9sOTsc527K97",
        "outputId": "1c2a4fe2-2c13-43e0-8322-4669d816c011"
      },
      "outputs": [
        {
          "output_type": "stream",
          "name": "stdout",
          "text": [
            "Olá mundo\n"
          ]
        }
      ],
      "source": [
        "print(\"Olá mundo\")"
      ]
    },
    {
      "cell_type": "markdown",
      "source": [
        "(A) = 320.52 / 3 = 106.84\n",
        "(B) = 834.47 / 119.21 ≈ 7.00\n",
        "(C) = 15378.12 / 5 = 3075.62"
      ],
      "metadata": {
        "id": "1SDLTQ9R9AL0"
      }
    },
    {
      "cell_type": "code",
      "source": [
        "cancao = 'Roda mundo, roda gigante, roda moinho, roda pião.'\n",
        "palavras = cancao.split()\n",
        "print(palavras)"
      ],
      "metadata": {
        "colab": {
          "base_uri": "https://localhost:8080/"
        },
        "id": "v4-Myo_c9BwT",
        "outputId": "876575e3-d982-4413-f2c2-d823097e2466"
      },
      "execution_count": 2,
      "outputs": [
        {
          "output_type": "stream",
          "name": "stdout",
          "text": [
            "['Roda', 'mundo,', 'roda', 'gigante,', 'roda', 'moinho,', 'roda', 'pião.']\n"
          ]
        }
      ]
    },
    {
      "cell_type": "code",
      "source": [
        "nova_cancao = cancao.replace('roda', 'gira')\n",
        "print(nova_cancao)\n"
      ],
      "metadata": {
        "colab": {
          "base_uri": "https://localhost:8080/"
        },
        "id": "VKtMrmq-99lb",
        "outputId": "ada06f6b-b877-47ac-ddaf-d9a24278b169"
      },
      "execution_count": 3,
      "outputs": [
        {
          "output_type": "stream",
          "name": "stdout",
          "text": [
            "Roda mundo, gira gigante, gira moinho, gira pião.\n"
          ]
        }
      ]
    },
    {
      "cell_type": "code",
      "source": [
        "contagem_roda = cancao.count('roda')\n",
        "print(contagem_roda)\n"
      ],
      "metadata": {
        "colab": {
          "base_uri": "https://localhost:8080/"
        },
        "id": "GbkpOUzZ-GCj",
        "outputId": "655e5793-db89-4ac2-bc51-ab0b9db5f96d"
      },
      "execution_count": 4,
      "outputs": [
        {
          "output_type": "stream",
          "name": "stdout",
          "text": [
            "3\n"
          ]
        }
      ]
    },
    {
      "cell_type": "code",
      "source": [
        "import re\n",
        "\n",
        "noticia = 'Selic vai a 2,75% e supera expectativas; é a primeira alta em 6 anos.'\n",
        "\n",
        "\n",
        "taxa_selic_pattern = r'(\\d+\\.\\d+)%'\n",
        "\n",
        "\n",
        "ano_pattern = r'\\b\\d{1,4}\\b'\n",
        "\n",
        "\n",
        "taxa_selic_match = re.search(taxa_selic_pattern, noticia)\n",
        "\n",
        "\n",
        "ano_match = re.search(ano_pattern, noticia)\n",
        "\n",
        "\n",
        "if taxa_selic_match:\n",
        "    selic = taxa_selic_match.group(1)\n",
        "else:\n",
        "    selic = \"Não encontrado\"\n",
        "\n",
        "if ano_match:\n",
        "    ano = ano_match.group()\n",
        "else:\n",
        "    ano = \"Não encontrado\"\n",
        "\n",
        "\n",
        "print(\"Taxa Selic:\", selic)\n",
        "print(\"Ano:\", ano)\n"
      ],
      "metadata": {
        "colab": {
          "base_uri": "https://localhost:8080/"
        },
        "id": "f8W015Dh-zKD",
        "outputId": "5f180cdb-3714-4b0e-92c7-d0d775064ee8"
      },
      "execution_count": 7,
      "outputs": [
        {
          "output_type": "stream",
          "name": "stdout",
          "text": [
            "Taxa Selic: Não encontrado\n",
            "Ano: 2\n"
          ]
        }
      ]
    },
    {
      "cell_type": "code",
      "source": [
        "a = False\n",
        "b = True\n",
        "x = not a & b\n",
        "\n",
        "print (x)"
      ],
      "metadata": {
        "colab": {
          "base_uri": "https://localhost:8080/"
        },
        "id": "MPBEGXNg_H6r",
        "outputId": "cc429a4f-d1b7-470a-e3a3-0931226cd3df"
      },
      "execution_count": 10,
      "outputs": [
        {
          "output_type": "stream",
          "name": "stdout",
          "text": [
            "True\n"
          ]
        }
      ]
    }
  ]
}