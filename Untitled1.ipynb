{
  "nbformat": 4,
  "nbformat_minor": 0,
  "metadata": {
    "colab": {
      "provenance": [],
      "authorship_tag": "ABX9TyO9zlWnxmiv6esAj3mVzBwE",
      "include_colab_link": true
    },
    "kernelspec": {
      "name": "python3",
      "display_name": "Python 3"
    },
    "language_info": {
      "name": "python"
    }
  },
  "cells": [
    {
      "cell_type": "markdown",
      "metadata": {
        "id": "view-in-github",
        "colab_type": "text"
      },
      "source": [
        "<a href=\"https://colab.research.google.com/github/kevyn606/-exercicio_bootstrap_kevyn/blob/main/Untitled1.ipynb\" target=\"_parent\"><img src=\"https://colab.research.google.com/assets/colab-badge.svg\" alt=\"Open In Colab\"/></a>"
      ]
    },
    {
      "cell_type": "code",
      "execution_count": 1,
      "metadata": {
        "colab": {
          "base_uri": "https://localhost:8080/"
        },
        "id": "4f8a7CR5Bdej",
        "outputId": "ca48c346-89b5-435a-c0de-e0f52e15b205"
      },
      "outputs": [
        {
          "output_type": "stream",
          "name": "stdout",
          "text": [
            "Erro ao acessar a página do IMDb.\n"
          ]
        }
      ],
      "source": [
        "import requests\n",
        "from bs4 import BeautifulSoup\n",
        "\n",
        "# Faz uma solicitação HTTP para a página do IMDb\n",
        "url = \"https://www.imdb.com/chart/top/\"\n",
        "response = requests.get(url)\n",
        "\n",
        "# Verifica se a solicitação foi bem-sucedida\n",
        "if response.status_code == 200:\n",
        "    # Analisa o conteúdo HTML da página\n",
        "    soup = BeautifulSoup(response.text, \"html.parser\")\n",
        "\n",
        "    # Encontra os elementos HTML que contêm os títulos dos filmes\n",
        "    filmes = soup.find_all(\"td\", class_=\"titleColumn\")\n",
        "\n",
        "    # Extrai os nomes dos filmes e imprime-os\n",
        "    for i, filme in enumerate(filmes[:10], start=1):  # Limitando a 10 filmes\n",
        "        titulo = filme.a.text\n",
        "        print(f\"{i}. {titulo}\")\n",
        "else:\n",
        "    print(\"Erro ao acessar a página do IMDb.\")\n",
        "\n"
      ]
    },
    {
      "cell_type": "code",
      "source": [
        "import requests\n",
        "from bs4 import BeautifulSoup\n",
        "\n",
        "# Faz uma solicitação HTTP para a página do IMDb\n",
        "url = \"https://www.imdb.com/chart/top/\"\n",
        "response = requests.get(url)\n",
        "\n",
        "# Verifica se a solicitação foi bem-sucedida\n",
        "if response.status_code == 200:\n",
        "    # Analisa o conteúdo HTML da página\n",
        "    soup = BeautifulSoup(response.text, \"html.parser\")\n",
        "\n",
        "    # Encontra os elementos HTML que contêm os títulos dos filmes\n",
        "    filmes = soup.find_all(\"td\", class_=\"titleColumn\")\n",
        "\n",
        "    # Extrai os nomes dos 10 primeiros filmes\n",
        "    top_10_filmes = [filme.a.text for filme in filmes[:10]]\n",
        "\n",
        "    # Imprime a lista original\n",
        "    print(\"Lista original:\")\n",
        "    for i, filme in enumerate(top_10_filmes, start=1):\n",
        "        print(f\"{i}. {filme}\")\n",
        "\n",
        "    # Simula a movimentação do ranking trocando o primeiro e o segundo filme\n",
        "    if len(top_10_filmes) >= 2:\n",
        "        primeiro_filme = top_10_filmes.pop(0)\n",
        "        segundo_filme = top_10_filmes.pop(0)\n",
        "        top_10_filmes.insert(0, segundo_filme)\n",
        "        top_10_filmes.insert(1, primeiro_filme)\n",
        "\n",
        "    # Imprime a lista após a troca\n",
        "    print(\"\\nLista após a troca:\")\n",
        "    for i, filme in enumerate(top_10_filmes, start=1):\n",
        "        print(f\"{i}. {filme}\")\n",
        "else:\n",
        "    print(\"Erro ao acessar a página do IMDb.\")\n"
      ],
      "metadata": {
        "colab": {
          "base_uri": "https://localhost:8080/"
        },
        "id": "IvkJMkJ0BeaD",
        "outputId": "44c973df-7efe-4a9a-ab77-17b917e39ada"
      },
      "execution_count": 2,
      "outputs": [
        {
          "output_type": "stream",
          "name": "stdout",
          "text": [
            "Erro ao acessar a página do IMDb.\n"
          ]
        }
      ]
    },
    {
      "cell_type": "code",
      "source": [
        "import requests\n",
        "from bs4 import BeautifulSoup\n",
        "\n",
        "# Faz uma solicitação HTTP para a página do IMDb\n",
        "url = \"https://www.imdb.com/chart/top/\"\n",
        "response = requests.get(url)\n",
        "\n",
        "# Verifica se a solicitação foi bem-sucedida\n",
        "if response.status_code == 200:\n",
        "    # Analisa o conteúdo HTML da página\n",
        "    soup = BeautifulSoup(response.text, \"html.parser\")\n",
        "\n",
        "    # Encontra os elementos HTML que contêm os títulos dos filmes\n",
        "    filmes = soup.find_all(\"td\", class_=\"titleColumn\")\n",
        "\n",
        "    # Extrai os nomes dos 10 primeiros filmes\n",
        "    top_10_filmes = [filme.a.text for filme in filmes[:10]]\n",
        "\n",
        "    # Imprime a lista original\n",
        "    print(\"Lista original:\")\n",
        "    for i, filme in enumerate(top_10_filmes, start=1):\n",
        "        print(f\"{i}. {filme}\")\n",
        "\n",
        "    # Simula a duplicação dos três últimos filmes da lista\n",
        "    tres_ultimos_filmes = top_10_filmes[-3:]\n",
        "    top_10_filmes.extend(tres_ultimos_filmes)\n",
        "\n",
        "    # Imprime a lista após a duplicação\n",
        "    print(\"\\nLista após a duplicação:\")\n",
        "    for i, filme in enumerate(top_10_filmes, start=1):\n",
        "        print(f\"{i}. {filme}\")\n",
        "else:\n",
        "    print(\"Erro ao acessar a página do IMDb.\")\n"
      ],
      "metadata": {
        "colab": {
          "base_uri": "https://localhost:8080/"
        },
        "id": "dlxN0SuRBzpb",
        "outputId": "7d5ae786-6c54-4ec8-c178-db080966a52d"
      },
      "execution_count": 3,
      "outputs": [
        {
          "output_type": "stream",
          "name": "stdout",
          "text": [
            "Erro ao acessar a página do IMDb.\n"
          ]
        }
      ]
    },
    {
      "cell_type": "code",
      "source": [
        "import requests\n",
        "from bs4 import BeautifulSoup\n",
        "\n",
        "# Faz uma solicitação HTTP para a página do IMDb\n",
        "url = \"https://www.imdb.com/chart/top/\"\n",
        "response = requests.get(url)\n",
        "\n",
        "# Verifica se a solicitação foi bem-sucedida\n",
        "if response.status_code == 200:\n",
        "    # Analisa o conteúdo HTML da página\n",
        "    soup = BeautifulSoup(response.text, \"html.parser\")\n",
        "\n",
        "    # Encontra os elementos HTML que contêm os títulos dos filmes\n",
        "    filmes = soup.find_all(\"td\", class_=\"titleColumn\")\n",
        "\n",
        "    # Extrai os nomes dos 10 primeiros filmes\n",
        "    top_10_filmes = [filme.a.text for filme in filmes[:10]]\n",
        "\n",
        "    # Imprime a lista original\n",
        "    print(\"Lista original:\")\n",
        "    for i, filme in enumerate(top_10_filmes, start=1):\n",
        "        print(f\"{i}. {filme}\")\n",
        "\n",
        "    # Simula a duplicação dos três últimos filmes da lista\n",
        "    tres_ultimos_filmes = top_10_filmes[-3:]\n",
        "    top_10_filmes.extend(tres_ultimos_filmes)\n",
        "\n",
        "    # Remove valores duplicados usando conjuntos (set)\n",
        "    top_10_filmes_sem_duplicatas = list(set(top_10_filmes))\n",
        "\n",
        "    # Imprime a lista após a remoção de duplicatas\n",
        "    print(\"\\nLista após a remoção de duplicatas:\")\n",
        "    for i, filme in enumerate(top_10_filmes_sem_duplicatas, start=1):\n",
        "        print(f\"{i}. {filme}\")\n",
        "else:\n",
        "    print(\"Erro ao acessar a página do IMDb.\")\n"
      ],
      "metadata": {
        "colab": {
          "base_uri": "https://localhost:8080/"
        },
        "id": "ThfLD1XgCamy",
        "outputId": "4ef9a674-f295-4ffa-b7e8-5acf7da33cda"
      },
      "execution_count": 4,
      "outputs": [
        {
          "output_type": "stream",
          "name": "stdout",
          "text": [
            "Erro ao acessar a página do IMDb.\n"
          ]
        }
      ]
    },
    {
      "cell_type": "code",
      "source": [
        "if len(filmes) >= 2:\n",
        "    primeiro_filme = filmes.pop(0)\n",
        "    segundo_filme = filmes.pop(0)\n",
        "    filmes.insert(0, segundo_filme)\n",
        "    filmes.insert(1, primeiro_filme)\n",
        "\n",
        "# Imprimir a lista após a troca\n",
        "print(\"\\nLista após a troca:\")\n",
        "for i, filme in enumerate(filmes, start=1):\n",
        "    print(f\"{i}. Nome: {filme['nome']}, Ano: {filme['ano']}\")\n"
      ],
      "metadata": {
        "id": "ha3GTSC2MiTR"
      },
      "execution_count": null,
      "outputs": []
    },
    {
      "cell_type": "code",
      "source": [
        "tres_ultimos_filmes = filmes[-3:]\n",
        "filmes.extend(tres_ultimos_filmes)\n",
        "\n",
        "# Remover valores duplicados usando um conjunto (set)\n",
        "filmes_sem_duplicatas = list({filme['nome']: filme for filme in filmes}.values())\n",
        "\n",
        "# Imprimir a lista após a remoção de duplicatas\n",
        "print(\"\\nLista após a remoção de duplicatas:\")\n",
        "for i, filme in enumerate(filmes_sem_duplicatas, start=1):\n",
        "    print(f\"{i}. Nome: {filme['nome']}, Ano: {filme['ano']}\")\n"
      ],
      "metadata": {
        "id": "VNGkzzsHMi2A"
      },
      "execution_count": null,
      "outputs": []
    }
  ]
}